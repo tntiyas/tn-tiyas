{
  "nbformat": 4,
  "nbformat_minor": 0,
  "metadata": {
    "colab": {
      "name": "Untitled2.ipynb",
      "provenance": [],
      "authorship_tag": "ABX9TyOmF2F2+5Rapm35I8EgdJ0s",
      "include_colab_link": true
    },
    "kernelspec": {
      "name": "python3",
      "display_name": "Python 3"
    }
  },
  "cells": [
    {
      "cell_type": "markdown",
      "metadata": {
        "id": "view-in-github",
        "colab_type": "text"
      },
      "source": [
        "<a href=\"https://colab.research.google.com/github/tntiyas/tn-tiyas/blob/master/1800018195.ipynb\" target=\"_parent\"><img src=\"https://colab.research.google.com/assets/colab-badge.svg\" alt=\"Open In Colab\"/></a>"
      ]
    },
    {
      "cell_type": "markdown",
      "metadata": {
        "id": "-Tqqv7haUvXL",
        "colab_type": "text"
      },
      "source": [
        "**PERBANDINGAN JUMLAH CUSTOMER YANG MEMILIH MEMAKAI KEAMANAN ONLINE ATAU TIDAK**\n",
        "\n",
        "NAMA  : TRINOVIANTI NINGTIYAS (1800018195)\n",
        "\n",
        "\n",
        "KELAS : E\n",
        "\n",
        "\n",
        "**Persiapan Environtment**\n",
        "\n",
        "**Instalasi java jdk dan pyspark**\n",
        "\n",
        "**Instalasi package findspark dan pyspark_dist_explore.**\n"
      ]
    },
    {
      "cell_type": "code",
      "metadata": {
        "id": "14LnDkUz8QLc",
        "colab_type": "code",
        "colab": {}
      },
      "source": [
        "!apt-get install openjdk-8-jdk-headless -qq > /dev/null\n",
        "!wget -q http://www-eu.apache.org/dist/spark/spark-2.4.6/spark-2.4.6-bin-hadoop2.7.tgz\n",
        "!tar xf spark-2.4.6-bin-hadoop2.7.tgz\n",
        "!pip install -q findspark"
      ],
      "execution_count": 38,
      "outputs": []
    },
    {
      "cell_type": "markdown",
      "metadata": {
        "id": "TFFfyvW4VyF2",
        "colab_type": "text"
      },
      "source": [
        "Import package OS dan set environtment Java"
      ]
    },
    {
      "cell_type": "code",
      "metadata": {
        "id": "JCF9P9Of8-iK",
        "colab_type": "code",
        "colab": {}
      },
      "source": [
        "import os\n",
        "os.environ[\"JAVA_HOME\"] = \"/usr/lib/jvm/java-8-openjdk-amd64\"\n",
        "os.environ[\"SPARK_HOME\"] = \"/content/spark-2.4.6-bin-hadoop2.7\""
      ],
      "execution_count": 39,
      "outputs": []
    },
    {
      "cell_type": "markdown",
      "metadata": {
        "id": "iZqI0wIxWpUb",
        "colab_type": "text"
      },
      "source": [
        "import package yang akan digunakan"
      ]
    },
    {
      "cell_type": "code",
      "metadata": {
        "id": "ffvmq9rP9HI4",
        "colab_type": "code",
        "colab": {}
      },
      "source": [
        "import findspark\n",
        "findspark.init(\"spark-2.4.6-bin-hadoop2.7\")# SPARK_HOME\n",
        "from pyspark.sql import SparkSession\n",
        "spark = SparkSession.builder.master(\"local[*]\").getOrCreate()\n",
        "from pyspark.sql.functions import col, avg"
      ],
      "execution_count": 40,
      "outputs": []
    },
    {
      "cell_type": "code",
      "metadata": {
        "id": "YhqglqzF9ZJ4",
        "colab_type": "code",
        "colab": {}
      },
      "source": [
        "!pip install -q pyspark_dist_explore"
      ],
      "execution_count": 41,
      "outputs": []
    },
    {
      "cell_type": "code",
      "metadata": {
        "id": "Ndp4q4Mo9gF2",
        "colab_type": "code",
        "colab": {}
      },
      "source": [
        "import matplotlib.pyplot as plt\n",
        "from pyspark_dist_explore import Histogram, hist"
      ],
      "execution_count": 42,
      "outputs": []
    },
    {
      "cell_type": "markdown",
      "metadata": {
        "id": "btQStS-1W6Ib",
        "colab_type": "text"
      },
      "source": [
        "Inisialisasi SparkContext dan SparkSession"
      ]
    },
    {
      "cell_type": "code",
      "metadata": {
        "id": "wgnGCvzX9nlH",
        "colab_type": "code",
        "colab": {}
      },
      "source": [
        "sc = spark.sparkContext\n",
        "spark = SparkSession(sc)"
      ],
      "execution_count": 43,
      "outputs": []
    },
    {
      "cell_type": "markdown",
      "metadata": {
        "id": "1RAqXxczW9U8",
        "colab_type": "text"
      },
      "source": [
        "**LOAD DATASET**"
      ]
    },
    {
      "cell_type": "code",
      "metadata": {
        "id": "nTWTdyP29tok",
        "colab_type": "code",
        "colab": {
          "base_uri": "https://localhost:8080/",
          "height": 391
        },
        "outputId": "e16d7baf-5be7-4e9e-e02e-0985136e5935"
      },
      "source": [
        "Customer_Chun_df = spark.read.csv(\"Customer_Chun.csv\", header=True, inferSchema=True)\n",
        "Customer_Chun_df.printSchema()            #mengecek schema dari dataset"
      ],
      "execution_count": 44,
      "outputs": [
        {
          "output_type": "stream",
          "text": [
            "root\n",
            " |-- customerIDgender: string (nullable = true)\n",
            " |-- SeniorCitizen: string (nullable = true)\n",
            " |-- Partner: integer (nullable = true)\n",
            " |-- Dependents: string (nullable = true)\n",
            " |-- tenure: string (nullable = true)\n",
            " |-- PhoneService: integer (nullable = true)\n",
            " |-- MultipleLines: string (nullable = true)\n",
            " |-- InternetService: string (nullable = true)\n",
            " |-- OnlineSecurity: string (nullable = true)\n",
            " |-- OnlineBackup: string (nullable = true)\n",
            " |-- DeviceProtection: string (nullable = true)\n",
            " |-- TechSupport: string (nullable = true)\n",
            " |-- StreamingTV: string (nullable = true)\n",
            " |-- StreamingMovies: string (nullable = true)\n",
            " |-- Contract: string (nullable = true)\n",
            " |-- PaperlessBilling: string (nullable = true)\n",
            " |-- PaymentMethod: string (nullable = true)\n",
            " |-- MonthlyCharges: string (nullable = true)\n",
            " |-- TotalCharges: double (nullable = true)\n",
            " |-- Churn: string (nullable = true)\n",
            "\n"
          ],
          "name": "stdout"
        }
      ]
    },
    {
      "cell_type": "markdown",
      "metadata": {
        "id": "Ta-DTK9xXV3A",
        "colab_type": "text"
      },
      "source": [
        "**1. PROSES EDA**"
      ]
    },
    {
      "cell_type": "code",
      "metadata": {
        "id": "npOUZ-3997PQ",
        "colab_type": "code",
        "colab": {
          "base_uri": "https://localhost:8080/",
          "height": 34
        },
        "outputId": "e1cec5a6-9541-4d4e-81b1-5110d5dc9921"
      },
      "source": [
        "print(\"Total Jumlah Customer : \", Customer_Chun_df.count())"
      ],
      "execution_count": 45,
      "outputs": [
        {
          "output_type": "stream",
          "text": [
            "Total Jumlah Customer :  7043\n"
          ],
          "name": "stdout"
        }
      ]
    },
    {
      "cell_type": "code",
      "metadata": {
        "id": "quQ6FtAN-P_E",
        "colab_type": "code",
        "colab": {
          "base_uri": "https://localhost:8080/",
          "height": 224
        },
        "outputId": "219e1929-d8d6-469b-8608-7a30c5d47f65"
      },
      "source": [
        "Customer_Chun_df.show(5)"
      ],
      "execution_count": 46,
      "outputs": [
        {
          "output_type": "stream",
          "text": [
            "+----------------+-------------+-------+----------+------+------------+-------------+----------------+--------------+------------+----------------+-----------+-----------+---------------+--------+----------------+-------------+--------------------+------------+-------+\n",
            "|customerIDgender|SeniorCitizen|Partner|Dependents|tenure|PhoneService|MultipleLines| InternetService|OnlineSecurity|OnlineBackup|DeviceProtection|TechSupport|StreamingTV|StreamingMovies|Contract|PaperlessBilling|PaymentMethod|      MonthlyCharges|TotalCharges|  Churn|\n",
            "+----------------+-------------+-------+----------+------+------------+-------------+----------------+--------------+------------+----------------+-----------+-----------+---------------+--------+----------------+-------------+--------------------+------------+-------+\n",
            "|      7590-VHVEG|       Female|      0|       Yes|    No|           1|           No|No phone service|           DSL|          No|             Yes|         No|         No|             No|      No|  Month-to-month|          Yes|    Electronic check|       29.85|  29.85|\n",
            "|      5575-GNVDE|         Male|      0|        No|    No|          34|          Yes|              No|           DSL|         Yes|              No|        Yes|         No|             No|      No|        One year|           No|        Mailed check|       56.95| 1889.5|\n",
            "|      3668-QPYBK|         Male|      0|        No|    No|           2|          Yes|              No|           DSL|         Yes|             Yes|         No|         No|             No|      No|  Month-to-month|          Yes|        Mailed check|       53.85| 108.15|\n",
            "|      7795-CFOCW|         Male|      0|        No|    No|          45|           No|No phone service|           DSL|         Yes|              No|        Yes|        Yes|             No|      No|        One year|           No|Bank transfer (au...|        42.3|1840.75|\n",
            "|      9237-HQITU|       Female|      0|        No|    No|           2|          Yes|              No|   Fiber optic|          No|              No|         No|         No|             No|      No|  Month-to-month|          Yes|    Electronic check|        70.7| 151.65|\n",
            "+----------------+-------------+-------+----------+------+------------+-------------+----------------+--------------+------------+----------------+-----------+-----------+---------------+--------+----------------+-------------+--------------------+------------+-------+\n",
            "only showing top 5 rows\n",
            "\n"
          ],
          "name": "stdout"
        }
      ]
    },
    {
      "cell_type": "markdown",
      "metadata": {
        "id": "66Ozdr5PXhgw",
        "colab_type": "text"
      },
      "source": [
        "**statistik dataset pada pengguna internet**"
      ]
    },
    {
      "cell_type": "code",
      "metadata": {
        "id": "4VjdYapL-bX4",
        "colab_type": "code",
        "colab": {
          "base_uri": "https://localhost:8080/",
          "height": 207
        },
        "outputId": "a6e340b2-b373-4d1b-fcaa-eeb190a25b17"
      },
      "source": [
        "Customer_Chun_df.describe().show()"
      ],
      "execution_count": 47,
      "outputs": [
        {
          "output_type": "stream",
          "text": [
            "+-------+----------------+-------------+------------------+----------+------+------------------+-------------+---------------+--------------+------------+----------------+-----------+-----------+---------------+--------+----------------+-------------+--------------------+------------------+------------------+\n",
            "|summary|customerIDgender|SeniorCitizen|           Partner|Dependents|tenure|      PhoneService|MultipleLines|InternetService|OnlineSecurity|OnlineBackup|DeviceProtection|TechSupport|StreamingTV|StreamingMovies|Contract|PaperlessBilling|PaymentMethod|      MonthlyCharges|      TotalCharges|             Churn|\n",
            "+-------+----------------+-------------+------------------+----------+------+------------------+-------------+---------------+--------------+------------+----------------+-----------+-----------+---------------+--------+----------------+-------------+--------------------+------------------+------------------+\n",
            "|  count|            7043|         7043|              7043|      7043|  7043|              7043|         7043|           7043|          7043|        7043|            7043|       7043|       7043|           7043|    7043|            7043|         7043|                7043|              7043|              7043|\n",
            "|   mean|            null|         null|0.1621468124378816|      null|  null| 32.37114865824223|         null|           null|          null|        null|            null|       null|       null|           null|    null|            null|         null|                null| 64.76169246059922|2283.3004408418697|\n",
            "| stddev|            null|         null|0.3686116056100135|      null|  null|24.559481023094442|         null|           null|          null|        null|            null|       null|       null|           null|    null|            null|         null|                null|30.090047097678482| 2266.771361883145|\n",
            "|    min|      0002-ORFBO|       Female|                 0|        No|    No|                 0|           No|             No|           DSL|          No|              No|         No|         No|             No|      No|  Month-to-month|           No|Bank transfer (au...|             18.25|                  |\n",
            "|    max|      9995-HOTOH|         Male|                 1|       Yes|   Yes|                72|          Yes|            Yes|            No|         Yes|             Yes|        Yes|        Yes|            Yes|     Yes|        Two year|          Yes|        Mailed check|            118.75|             999.9|\n",
            "+-------+----------------+-------------+------------------+----------+------+------------------+-------------+---------------+--------------+------------+----------------+-----------+-----------+---------------+--------+----------------+-------------+--------------------+------------------+------------------+\n",
            "\n"
          ],
          "name": "stdout"
        }
      ]
    },
    {
      "cell_type": "markdown",
      "metadata": {
        "id": "Eke73j2JXz7K",
        "colab_type": "text"
      },
      "source": [
        "PERSEBARAN DATA TOTALCHARGES"
      ]
    },
    {
      "cell_type": "code",
      "metadata": {
        "id": "aTzdb7iui60h",
        "colab_type": "code",
        "colab": {}
      },
      "source": [
        "from google.colab import drive\n",
        "drive.mount('/content/drive')"
      ],
      "execution_count": null,
      "outputs": []
    },
    {
      "cell_type": "code",
      "metadata": {
        "id": "D_d5ziaO-pSJ",
        "colab_type": "code",
        "colab": {
          "base_uri": "https://localhost:8080/",
          "height": 334
        },
        "outputId": "74e1ddf9-7118-43db-d3b6-c86e2c59a11a"
      },
      "source": [
        "Customer_Chun_df_TotalCharges = Customer_Chun_df.select('TotalCharges')\n",
        "\n",
        "fig, axes = plt.subplots()\n",
        "fig.set_size_inches(8, 5)\n",
        "hist(axes, Customer_Chun_df_TotalCharges, color=\"green\")\n",
        "plt.xlabel('Persebaran Data Total Biaya (TotalCharges)')\n",
        "plt.ylabel('Banyak')\n",
        "\n",
        "plt.show()"
      ],
      "execution_count": 25,
      "outputs": [
        {
          "output_type": "display_data",
          "data": {
            "image/png": "[encoded data removed]",
            "text/plain": [
              "<Figure size 576x360 with 1 Axes>"
            ]
          },
          "metadata": {
            "tags": [],
            "needs_background": "light"
          }
        }
      ]
    },
    {
      "cell_type": "markdown",
      "metadata": {
        "id": "oiOb5OZZX-Rw",
        "colab_type": "text"
      },
      "source": [
        "cek data apakah ada yang null atau tidak"
      ]
    },
    {
      "cell_type": "code",
      "metadata": {
        "id": "FcL2gw4RCaUm",
        "colab_type": "code",
        "colab": {
          "base_uri": "https://localhost:8080/",
          "height": 357
        },
        "outputId": "e31a4488-7df7-4b22-8a24-e642b2333e0e"
      },
      "source": [
        "table = ['customerIDgender', 'SeniorCitizen', 'Partner', 'Dependents', 'tenure', 'PhoneService', 'MultipleLines', 'InternetService','OnlineSecurity', 'OnlineBackup', 'DeviceProtection', 'TechSupport', 'StreamingTV', 'StreamingMovies', 'Contract', 'PaperlessBilling', 'PaymentMethod', 'MonthlyCharges', 'TotalCharges', 'Churn']\n",
        "\n",
        "for kolom in table:\n",
        "  print('jumlah data yang bernilai null pada colom ', kolom, ' : ', Customer_Chun_df.where(col(kolom).isNull()).count())"
      ],
      "execution_count": 19,
      "outputs": [
        {
          "output_type": "stream",
          "text": [
            "jumlah data yang bernilai null pada colom  customerIDgender  :  0\n",
            "jumlah data yang bernilai null pada colom  SeniorCitizen  :  0\n",
            "jumlah data yang bernilai null pada colom  Partner  :  0\n",
            "jumlah data yang bernilai null pada colom  Dependents  :  0\n",
            "jumlah data yang bernilai null pada colom  tenure  :  0\n",
            "jumlah data yang bernilai null pada colom  PhoneService  :  0\n",
            "jumlah data yang bernilai null pada colom  MultipleLines  :  0\n",
            "jumlah data yang bernilai null pada colom  InternetService  :  0\n",
            "jumlah data yang bernilai null pada colom  OnlineSecurity  :  0\n",
            "jumlah data yang bernilai null pada colom  OnlineBackup  :  0\n",
            "jumlah data yang bernilai null pada colom  DeviceProtection  :  0\n",
            "jumlah data yang bernilai null pada colom  TechSupport  :  0\n",
            "jumlah data yang bernilai null pada colom  StreamingTV  :  0\n",
            "jumlah data yang bernilai null pada colom  StreamingMovies  :  0\n",
            "jumlah data yang bernilai null pada colom  Contract  :  0\n",
            "jumlah data yang bernilai null pada colom  PaperlessBilling  :  0\n",
            "jumlah data yang bernilai null pada colom  PaymentMethod  :  0\n",
            "jumlah data yang bernilai null pada colom  MonthlyCharges  :  0\n",
            "jumlah data yang bernilai null pada colom  TotalCharges  :  0\n",
            "jumlah data yang bernilai null pada colom  Churn  :  0\n"
          ],
          "name": "stdout"
        }
      ]
    },
    {
      "cell_type": "markdown",
      "metadata": {
        "id": "anu4SQIDYKjY",
        "colab_type": "text"
      },
      "source": [
        "**2. PRE PROCESSING**"
      ]
    },
    {
      "cell_type": "code",
      "metadata": {
        "id": "HdWl-NWXE6n9",
        "colab_type": "code",
        "colab": {
          "base_uri": "https://localhost:8080/",
          "height": 289
        },
        "outputId": "2577080a-06bf-4406-8ebe-5fcbc07d5b17"
      },
      "source": [
        "# seleksi data\n",
        "Customer_Chun_df = Customer_Chun_df.select('CustomerIDgender', 'OnlineSecurity', 'TotalCharges')\n",
        "\n",
        "# tampilkan 10 data teratas\n",
        "Customer_Chun_df.show(10)"
      ],
      "execution_count": 23,
      "outputs": [
        {
          "output_type": "stream",
          "text": [
            "+----------------+--------------+------------+\n",
            "|CustomerIDgender|OnlineSecurity|TotalCharges|\n",
            "+----------------+--------------+------------+\n",
            "|      7590-VHVEG|           DSL|       29.85|\n",
            "|      5575-GNVDE|           DSL|       56.95|\n",
            "|      3668-QPYBK|           DSL|       53.85|\n",
            "|      7795-CFOCW|           DSL|        42.3|\n",
            "|      9237-HQITU|   Fiber optic|        70.7|\n",
            "|      9305-CDSKC|   Fiber optic|       99.65|\n",
            "|      1452-KIOVK|   Fiber optic|        89.1|\n",
            "|      6713-OKOMC|           DSL|       29.75|\n",
            "|      7892-POOKP|   Fiber optic|       104.8|\n",
            "|      6388-TABGU|           DSL|       56.15|\n",
            "+----------------+--------------+------------+\n",
            "only showing top 10 rows\n",
            "\n"
          ],
          "name": "stdout"
        }
      ]
    },
    {
      "cell_type": "markdown",
      "metadata": {
        "id": "2CuOT2r6YQRq",
        "colab_type": "text"
      },
      "source": [
        "**3. PEMROSESAN DATA**"
      ]
    },
    {
      "cell_type": "code",
      "metadata": {
        "id": "tbR4jgGyGCtM",
        "colab_type": "code",
        "colab": {
          "base_uri": "https://localhost:8080/",
          "height": 476
        },
        "outputId": "5563c147-a901-4f3e-8790-0e62feaaf46b"
      },
      "source": [
        "print('Perbandingan biaya keamanan online berdasarkan jenis kelamin')\n",
        "perbandingan_KeamananOnline_jk.show()\n",
        "\n",
        "# ambil data single value dari spark sql\n",
        "rata_biaya_pr = perbandingan_KeamananOnline_jk.collect()[0][1]\n",
        "rata_biaya_lk = perbandingan_KeamananOnline_jk.collect()[1][1]"
      ],
      "execution_count": 28,
      "outputs": [
        {
          "output_type": "stream",
          "text": [
            "Perbandingan biaya keamanan online berdasarkan jenis kelamin\n",
            "+----------------+-----------------+\n",
            "|CustomerIDgender|avg(TotalCharges)|\n",
            "+----------------+-----------------+\n",
            "|      3668-QPYBK|            53.85|\n",
            "|      6234-RAAPL|             99.9|\n",
            "|      1894-IGFSG|            89.25|\n",
            "|      6982-SSHFK|             44.4|\n",
            "|      5859-HZYLF|            19.15|\n",
            "|      6479-OAUSD|             19.9|\n",
            "|      2592-YKDIF|            20.35|\n",
            "|      6718-BDGHG|            64.85|\n",
            "|      3195-TQDZX|            20.25|\n",
            "|      4248-QPAVC|            85.35|\n",
            "|      5668-MEISB|            106.1|\n",
            "|      5802-ADBRC|            104.4|\n",
            "|      2712-SYWAY|             25.7|\n",
            "|      2011-TRQYE|             33.5|\n",
            "|      7244-KXYZN|            20.45|\n",
            "|      0953-LGOVU|             35.5|\n",
            "|      3623-FQBOX|            19.95|\n",
            "|      3692-JHONH|            106.5|\n",
            "|      3528-HFRIQ|             52.3|\n",
            "|      7661-CPURM|             87.7|\n",
            "+----------------+-----------------+\n",
            "only showing top 20 rows\n",
            "\n"
          ],
          "name": "stdout"
        }
      ]
    },
    {
      "cell_type": "code",
      "metadata": {
        "id": "BHH1BhH7IpcI",
        "colab_type": "code",
        "colab": {
          "base_uri": "https://localhost:8080/",
          "height": 170
        },
        "outputId": "ef79eeb0-6a76-4116-adea-686b0f5f7373"
      },
      "source": [
        "print('Rata rata perbandingan biaya keamanan online')\n",
        "rata_rata_biaya.show()\n"
      ],
      "execution_count": 27,
      "outputs": [
        {
          "output_type": "stream",
          "text": [
            "Rata rata perbandingan biaya keamanan online\n",
            "+--------------+------------------+\n",
            "|OnlineSecurity| avg(TotalCharges)|\n",
            "+--------------+------------------+\n",
            "|   Fiber optic| 91.50012919896615|\n",
            "|            No|21.079193971166454|\n",
            "|           DSL| 58.10216852540261|\n",
            "+--------------+------------------+\n",
            "\n"
          ],
          "name": "stdout"
        }
      ]
    },
    {
      "cell_type": "code",
      "metadata": {
        "id": "-_lMkj6MLa15",
        "colab_type": "code",
        "colab": {
          "base_uri": "https://localhost:8080/",
          "height": 187
        },
        "outputId": "c36d059b-c25c-4448-fe2d-5d51f49a2612"
      },
      "source": [
        "# pada pemrosesan data ini menggunakan transformasi dan action pada spark dataframe\n",
        "\n",
        "# hitung rata-rata biaya keamanan online\n",
        "rata_biaya_berdasarkan_jk = Customer_Chun_df.groupby('OnlineSecurity').avg('TotalCharges')\n",
        "\n",
        "# output\n",
        "\n",
        "print('\\n Rata-rata biaya keamanan online')\n",
        "\n",
        "rata_biaya_berdasarkan_jk.show()"
      ],
      "execution_count": 29,
      "outputs": [
        {
          "output_type": "stream",
          "text": [
            "\n",
            " Rata-rata biaya keamanan online\n",
            "+--------------+------------------+\n",
            "|OnlineSecurity| avg(TotalCharges)|\n",
            "+--------------+------------------+\n",
            "|   Fiber optic| 91.50012919896615|\n",
            "|            No|21.079193971166454|\n",
            "|           DSL| 58.10216852540261|\n",
            "+--------------+------------------+\n",
            "\n"
          ],
          "name": "stdout"
        }
      ]
    },
    {
      "cell_type": "markdown",
      "metadata": {
        "id": "YFRZHMd2YhE7",
        "colab_type": "text"
      },
      "source": [
        "**4. VISUALISASI DATA**"
      ]
    },
    {
      "cell_type": "code",
      "metadata": {
        "id": "ggQaPRiYOxh7",
        "colab_type": "code",
        "colab": {
          "base_uri": "https://localhost:8080/",
          "height": 353
        },
        "outputId": "8c7a6575-5968-4995-bf81-f81fe4f8ef4e"
      },
      "source": [
        "# plotting data\n",
        "fig, axes = plt.subplots()\n",
        "\n",
        "# jumlah pengguna keamanan online berdasarkan biaya\n",
        "fig.set_size_inches(7, 5)\n",
        "\n",
        "plt.title('Perbandingan rata-rata biaya jumlah pengguna keamanan online')\n",
        "plt.pie([Customer_Chun_df.count(), Customer_Chun_df.count()], labels=['Perempuan', 'Laki-laki'], autopct='%1.1f%%', \n",
        "        shadow=True, startangle=40, colors=['#7FFFD4', 'coral'])\n",
        "print('\\n')"
      ],
      "execution_count": 37,
      "outputs": [
        {
          "output_type": "stream",
          "text": [
            "\n",
            "\n"
          ],
          "name": "stdout"
        },
        {
          "output_type": "display_data",
          "data": {
            "image/png": "[encoded data removed]",
            "text/plain": [
              "<Figure size 504x360 with 1 Axes>"
            ]
          },
          "metadata": {
            "tags": []
          }
        }
      ]
    }
  ]
}